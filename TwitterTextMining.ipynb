{
 "cells": [
  {
   "cell_type": "markdown",
   "metadata": {},
   "source": [
    "## 1. Environment Setup"
   ]
  },
  {
   "cell_type": "code",
   "execution_count": 1,
   "metadata": {},
   "outputs": [],
   "source": [
    "import tweepy\n",
    "from tweepy import OAuthHandler\n",
    "from nltk.corpus import stopwords\n",
    "import pandas as pd\n",
    "import numpy as np\n",
    "import re\n",
    "import operator\n",
    "import matplotlib.pyplot as plt \n",
    "from sklearn.decomposition import PCA\n",
    "from sklearn.cluster import KMeans\n",
    "from sklearn.manifold import TSNE\n",
    "from operator import itemgetter"
   ]
  },
  {
   "cell_type": "code",
   "execution_count": 2,
   "metadata": {},
   "outputs": [],
   "source": [
    "import nltk\n",
    "#nltk.download('stopwords')  # If stopwords has not been downloaded"
   ]
  },
  {
   "cell_type": "markdown",
   "metadata": {},
   "source": [
    "## 2. Data Acquisition"
   ]
  },
  {
   "cell_type": "code",
   "execution_count": 3,
   "metadata": {},
   "outputs": [],
   "source": [
    "punctuations = '''!()-[]{};:'\"\\,<>./?@#$%^&*_~'''\n",
    "stop_words = set(stopwords.words('english'))\n",
    "s=\"ipl\"\n",
    "\n",
    "consumer_key = 'aTdTTqgBrfk5vfCqqItxGoByi'\n",
    "consumer_secret = 'obHwzoYVGIOq7o3nD7r1ULouQZ27xgIlmzKSMEocx0UQ91m8iY'\n",
    "access_token = '2943673172-brbBP1WgHciMM85Qq3cBCgJBaOEIdMSzxUfyKdQ'\n",
    "access_token_secret = 'rMb4Lf0DWglxljacePbUUnbHrvp6kI4l4ZEV1qbob1r3b'\n",
    "auth = tweepy.OAuthHandler(consumer_key, consumer_secret)\n",
    "auth.set_access_token(access_token, access_token_secret)\n",
    "api = tweepy.API(auth)\n"
   ]
  },
  {
   "cell_type": "markdown",
   "metadata": {},
   "source": [
    "## 3. Data Preprocessing"
   ]
  },
  {
   "cell_type": "markdown",
   "metadata": {},
   "source": [
    "## 4. Text Mining"
   ]
  },
  {
   "cell_type": "code",
   "execution_count": 4,
   "metadata": {},
   "outputs": [],
   "source": [
    "n=0\n",
    "clean_words = []\n",
    "lower_words=[]\n",
    "word_count={}\n",
    "word_count_n={}\n",
    "for tweet in tweepy.Cursor(api.search, q=s, lang=\"en\").items(100):\n",
    "    n=n+1\n",
    "    #print(tweet.text)\n",
    "    words = tweet.text.split()\n",
    "    for u in words:\n",
    "        lower_words.append( u.lower())\n",
    "\n",
    "    for w in lower_words:\n",
    "        if w not in stop_words and  w not in punctuations:\n",
    "            clean_words.append(w)\n",
    "\n",
    "    for cw in clean_words:\n",
    "        #print(cw)\n",
    "        if cw not in word_count:\n",
    "            word_count[cw]=1\n",
    "        else:\n",
    "            word_count[cw]=word_count[cw]+1\n",
    "    for cwt in word_count:\n",
    "        if word_count[cwt]>50:\n",
    "            word_count_n[cwt]=word_count[cwt]"
   ]
  },
  {
   "cell_type": "markdown",
   "metadata": {},
   "source": [
    "## 5. Data visualization"
   ]
  },
  {
   "cell_type": "code",
   "execution_count": 5,
   "metadata": {},
   "outputs": [],
   "source": [
    "#print(clean_words)"
   ]
  },
  {
   "cell_type": "code",
   "execution_count": 6,
   "metadata": {},
   "outputs": [],
   "source": [
    "#print(word_count_n.keys())"
   ]
  },
  {
   "cell_type": "code",
   "execution_count": 7,
   "metadata": {},
   "outputs": [],
   "source": [
    "clean_tweets=list(word_count_n.keys())"
   ]
  },
  {
   "cell_type": "code",
   "execution_count": 8,
   "metadata": {},
   "outputs": [
    {
     "data": {
      "text/plain": [
       "<matplotlib.image.AxesImage at 0x1fc9e120b00>"
      ]
     },
     "execution_count": 8,
     "metadata": {},
     "output_type": "execute_result"
    },
    {
     "data": {
      "image/png": "[encoded data removed]",
      "text/plain": [
       "<Figure size 432x288 with 1 Axes>"
      ]
     },
     "metadata": {
      "needs_background": "light"
     },
     "output_type": "display_data"
    }
   ],
   "source": [
    "from wordcloud import WordCloud\n",
    "#from PIL import Image\n",
    "#import matplotlib.pyplot as plt\n",
    "\n",
    "wc = WordCloud(background_color=\"white\",width=7000,height=3000, max_words=50,relative_scaling=0.5,normalize_plurals=False).generate_from_frequencies(word_count_n)\n",
    "plt.imshow(wc)"
   ]
  },
  {
   "cell_type": "markdown",
   "metadata": {},
   "source": [
    "## 6. Clustering Analysis"
   ]
  },
  {
   "cell_type": "code",
   "execution_count": 9,
   "metadata": {},
   "outputs": [
    {
     "name": "stdout",
     "output_type": "stream",
     "text": [
      "Word embeddings: 1193514\n"
     ]
    }
   ],
   "source": [
    "# Load GloVe's embeddings\n",
    "embeddings_index = {}\n",
    "with open('/Users/George Thomas/Documents/Kevin_Python/Twitter_Clustering/glove.twitter.27B/glove.twitter.27B.200d.txt', encoding='utf-8') as f:\n",
    "    for line in f:\n",
    "        values = line.split(' ')\n",
    "        word = values[0]\n",
    "        embedding = np.asarray(values[1:], dtype='float32')\n",
    "        embeddings_index[word] = embedding\n",
    "\n",
    "print('Word embeddings:', len(embeddings_index))"
   ]
  },
  {
   "cell_type": "code",
   "execution_count": 10,
   "metadata": {},
   "outputs": [
    {
     "name": "stdout",
     "output_type": "stream",
     "text": [
      "Total Number of Embeddings: 727\n",
      "Number of Null Embeddings: 381\n",
      "% of Embeddings that are Null: 52.410000000000004%\n"
     ]
    }
   ],
   "source": [
    "# Create an 'average' embedding for each tweet\n",
    "\n",
    "embedding_dim = 200 # Use 200 to match GloVe's embedding size\n",
    "\n",
    "embed_tweets = [] # Contains the 'average' embedding for each tweet\n",
    "total_embeds = 0 \n",
    "null_embeds = 0 \n",
    "\n",
    "for tweet in clean_tweets:\n",
    "    avg_embed = np.zeros(embedding_dim) # Set default embedding for each tweet\n",
    "    for word in tweet.split():\n",
    "        total_embeds += 1\n",
    "        embed = embeddings_index.get(word)\n",
    "        if embed is not None:\n",
    "            avg_embed += embed # Add embedding's values to vectors\n",
    "        else:\n",
    "            null_embeds += 1\n",
    "    embed_tweets.append(avg_embed/len(tweet.split()))\n",
    "\n",
    "print(\"Total Number of Embeddings:\", total_embeds)\n",
    "print(\"Number of Null Embeddings:\", null_embeds)\n",
    "print(\"% of Embeddings that are Null: {}%\".format(round(null_embeds/total_embeds,4)*100))"
   ]
  },
  {
   "cell_type": "code",
   "execution_count": 11,
   "metadata": {},
   "outputs": [],
   "source": [
    "# Reduce the dimensions of each tweet to 1\n",
    "pca = PCA(n_components=1, random_state = 2)\n",
    "pca_tweets = pca.fit_transform(embed_tweets)"
   ]
  },
  {
   "cell_type": "code",
   "execution_count": 12,
   "metadata": {},
   "outputs": [],
   "source": [
    "# Order the tweets based on their PCA values, from low to high\n",
    "# Similar tweets will be closer together\n",
    "pca_tweets_list = [] # Contains the pca values\n",
    "for tweet in pca_tweets:\n",
    "    pca_tweets_list.append(tweet[0])\n",
    "\n",
    "order = np.array(pca_tweets_list).argsort()\n",
    "pca_labels = order.argsort()\n",
    "pca_labels *= 2 # Multiple the labels by 2 so generated tweets can have odd values and \n",
    "                # Even values will represent tweets that were used for training"
   ]
  },
  {
   "cell_type": "code",
   "execution_count": 13,
   "metadata": {},
   "outputs": [
    {
     "data": {
      "text/plain": [
       "array([ 828, 1164,  858,  886,  812, 1180,  544, 1048,  540,  822],\n",
       "      dtype=int64)"
      ]
     },
     "execution_count": 13,
     "metadata": {},
     "output_type": "execute_result"
    }
   ],
   "source": [
    "# Inspect pca_labels\n",
    "pca_labels[:10]"
   ]
  },
  {
   "cell_type": "code",
   "execution_count": 14,
   "metadata": {},
   "outputs": [],
   "source": [
    "\n",
    "# Group tweets by similarity\n",
    "kmeans = KMeans(n_clusters=5, max_iter = 1000, n_init = 20, random_state=2).fit(pca_tweets)\n",
    "labels = kmeans.labels_"
   ]
  },
  {
   "cell_type": "code",
   "execution_count": 15,
   "metadata": {},
   "outputs": [
    {
     "data": {
      "text/plain": [
       "0    426\n",
       "4     77\n",
       "3     76\n",
       "2     74\n",
       "1     74\n",
       "Name: 0, dtype: int64"
      ]
     },
     "execution_count": 15,
     "metadata": {},
     "output_type": "execute_result"
    }
   ],
   "source": [
    "# The number of tweets in each group.\n",
    "pd.DataFrame(labels)[0].value_counts()"
   ]
  },
  {
   "cell_type": "code",
   "execution_count": 17,
   "metadata": {},
   "outputs": [],
   "source": [
    "def top_n_words(group, n_words):\n",
    "    '''Find the n most common words in each group'''\n",
    "    vocab = {} # Create the vocabulary for each group\n",
    "    for i in range(len(clean_tweets)):\n",
    "        if labels[i] == group:\n",
    "            for word in clean_tweets[i].split():\n",
    "                if word not in vocab:\n",
    "                    vocab[word] = 1\n",
    "                else:\n",
    "                    vocab[word] += 1\n",
    "      \n",
    "    # Sort the vocab from most to least common words\n",
    "    sorted_vocab = sorted(vocab.items(), key=operator.itemgetter(1), reverse=True)\n",
    "    top_n_words = []\n",
    "    for word, value in sorted_vocab:\n",
    "        top_n_words.append(word)\n",
    "        if len(top_n_words) == n_words:\n",
    "            break\n",
    "    print(top_n_words)"
   ]
  },
  {
   "cell_type": "code",
   "execution_count": 18,
   "metadata": {},
   "outputs": [
    {
     "name": "stdout",
     "output_type": "stream",
     "text": [
      "Group # 1\n",
      "['srh', 'head-to-head', '@sunrisers', '@rajasthanroyals', 'evenly', 'leadi…', 'https://t.co/nqduxodeug', '@bizasia:', '#bizasiaratings', '5']\n",
      "Group # 2\n",
      "['rt', 'battle', 'top', 'shows', 'uk', 'wednesday', 'five', 'happen', 'teams', 'face']\n",
      "Group # 3\n",
      "['rcb', 'csk', 'matched', 'kohli', 'emerge', 'ipl', 'raina', 'dhoni', 'abd', 'slams']\n",
      "Group # 4\n",
      "['years', 'last', 'time', 'team', 'live', 'keep', 'call', 'win', 'got', 'wait']\n",
      "Group # 5\n",
      "['&amp;', 'mi', 'highest', 'smith', 'cricket', 'winners', 'vs', 'pakistan', 'coz', 'doctor']\n"
     ]
    }
   ],
   "source": [
    "# The most common words in each group\n",
    "groups = len(np.unique(labels))\n",
    "for i in range(groups):\n",
    "    print(\"Group #\",i+1)\n",
    "    top_n_words(i, 10)"
   ]
  },
  {
   "cell_type": "code",
   "execution_count": 19,
   "metadata": {},
   "outputs": [
    {
     "name": "stdout",
     "output_type": "stream",
     "text": [
      "Trump's 100 most popular tweeted words (not including stop words):\n",
      "['rt', 'ipl', 'live', '#ipl', '#srhvrr', 'csk', 'rcb', 'warner', 'vs', 'score', 'srh', 'win', 'abd', '&amp;', 'smith', 'mi', 'wait', 'sunrisers', '@sunrisers', 'ipl:', 'rr', 'kohli', 'match', 'time', 'hyderabad', 'take', 'team', 'game', 'keep', 'runs', 'cricket', '@ipl', '2019,', 'retweet', 'watched', 'single', '2019..', 'ipl.', 'big', '@rajasthanroyals', '@espncricinfo:', 'spotlight', '👀', \"who's\", 'got', 'fire?', 'https://t.co/cbvx2ntagz', 'https://t.co/2bhxc2k4yv', '😍', \"can't\", 'kxip', 'last', '#vivoipl', 'would', 'u', 'playing', '@ippatel:', '2014', 'organised', 'outside', 'bharat', 'hm', 'shinde', 'denied', 'provide', 'security', 'due', 'election.', 'loss', 'govt', 'ta…', 'free', 'see', '#ipl2019', '@sshubho:', 'long', 'ipl?', '#kohli:', 'https://t.co/kjgedr5lqh', 'teams', 'face', '@katamulgi:', 'need', '@sirjadeja:', 'winning', 'raina', 'vivo', '2', 'head-to-head', 'battle', 'evenly', 'matched', 'years', 'leadi…', 'https://t.co/nqduxodeug', '6', '@bizasia:', '#bizasiaratings', 'top', '5']\n"
     ]
    }
   ],
   "source": [
    "# The most common words for all of Trump's tweets\n",
    "n_words = 100\n",
    "sorted_vocab = sorted(word_count_n.items(), key=operator.itemgetter(1), reverse=True)\n",
    "top_n_words = []\n",
    "for word, value in sorted_vocab:\n",
    "    if word not in stop_words:\n",
    "        top_n_words.append(word)\n",
    "    if len(top_n_words) == n_words:\n",
    "        break\n",
    "print(\"Trump's {} most popular tweeted words (not including stop words):\".format(n_words))\n",
    "print(top_n_words)"
   ]
  },
  {
   "cell_type": "code",
   "execution_count": 20,
   "metadata": {},
   "outputs": [],
   "source": [
    "def print_tweet_group(group, n_tweets):\n",
    "    '''Prints the first n_tweets in a group'''\n",
    "    count = 1\n",
    "    for i in range(len(clean_tweets)):\n",
    "        if labels[i] == group:\n",
    "            print(\"#{}: {}\".format(count, clean_tweets[i]))\n",
    "            count += 1\n",
    "            if count == n_tweets+1:\n",
    "                break"
   ]
  },
  {
   "cell_type": "code",
   "execution_count": 21,
   "metadata": {},
   "outputs": [
    {
     "name": "stdout",
     "output_type": "stream",
     "text": [
      "Group # 1\n",
      "#1: srh\n",
      "#2: head-to-head\n",
      "#3: @sunrisers\n",
      "#4: @rajasthanroyals\n",
      "#5: evenly\n",
      "\n",
      "Group # 2\n",
      "#1: rt\n",
      "#2: battle\n",
      "#3: top\n",
      "#4: shows\n",
      "#5: uk\n",
      "\n",
      "Group # 3\n",
      "#1: rcb\n",
      "#2: csk\n",
      "#3: matched\n",
      "#4: kohli\n",
      "#5: emerge\n",
      "\n",
      "Group # 4\n",
      "#1: years\n",
      "#2: last\n",
      "#3: time\n",
      "#4: team\n",
      "#5: live\n",
      "\n",
      "Group # 5\n",
      "#1: &amp;\n",
      "#2: mi\n",
      "#3: highest\n",
      "#4: smith\n",
      "#5: cricket\n",
      "\n"
     ]
    }
   ],
   "source": [
    "\n",
    "# Print the first few tweets in each group\n",
    "n_tweets = 5\n",
    "for i in range(groups):\n",
    "    print(\"Group #\",i+1)\n",
    "    print_tweet_group(i,n_tweets)\n",
    "    print()"
   ]
  },
  {
   "cell_type": "code",
   "execution_count": 22,
   "metadata": {},
   "outputs": [],
   "source": [
    "# Visualize the tweets with TSNE\n",
    "model = TSNE(n_components=2, random_state=2)\n",
    "TSNE_tweets = model.fit_transform(embed_tweets)"
   ]
  },
  {
   "cell_type": "code",
   "execution_count": 23,
   "metadata": {},
   "outputs": [
    {
     "data": {
      "image/png": "[encoded data removed]",
      "text/plain": [
       "<Figure size 864x360 with 1 Axes>"
      ]
     },
     "metadata": {
      "needs_background": "light"
     },
     "output_type": "display_data"
    }
   ],
   "source": [
    "# Build a scatter plot to visualize the tweets.\n",
    "color_map = {0:'red', 1:'orange', 2:'yellow', 3:'blue', 4:'black'}\n",
    "plt.figure(figsize=(12,5))\n",
    "\n",
    "for i in range(len(TSNE_tweets)):\n",
    "    plt.scatter(x = TSNE_tweets[i][0], \n",
    "                y = TSNE_tweets[i][1],\n",
    "                c = color_map[labels[i]])\n",
    "plt.xlabel('X in t-SNE')\n",
    "plt.ylabel('Y in t-SNE')\n",
    "plt.title('Trump\\'s Tweet Types')\n",
    "\n",
    "offset = 2\n",
    "x_min = min(TSNE_tweets, key=itemgetter(0))[0] - offset\n",
    "x_max = max(TSNE_tweets, key=itemgetter(0))[0] + offset\n",
    "y_min = min(TSNE_tweets, key=itemgetter(1))[1] - offset\n",
    "y_max = max(TSNE_tweets, key=itemgetter(1))[1] + offset\n",
    "\n",
    "axes = plt.gca()\n",
    "axes.set_xlim([x_min,x_max])\n",
    "axes.set_ylim([y_min,y_max])\n",
    "plt.show()"
   ]
  },
  {
   "cell_type": "code",
   "execution_count": 24,
   "metadata": {},
   "outputs": [
    {
     "data": {
      "image/png": "[encoded data removed]",
      "text/plain": [
       "<Figure size 864x216 with 1 Axes>"
      ]
     },
     "metadata": {
      "needs_background": "light"
     },
     "output_type": "display_data"
    }
   ],
   "source": [
    "\n",
    "# Create a scatterplot to visualize the tweet groups by the PCA labels\n",
    "plt.figure(figsize=(12,3))\n",
    "for i in range(len(TSNE_tweets)):\n",
    "    plt.scatter(x = pca_labels[i], \n",
    "                y = labels[i]+1,\n",
    "                c = color_map[labels[i]])\n",
    "    \n",
    "plt.xlabel('PCA Label')\n",
    "plt.ylabel('Tweet Group')\n",
    "plt.title('PCA Labels vs Tweet Group')\n",
    "    \n",
    "plt.show()"
   ]
  },
  {
   "cell_type": "code",
   "execution_count": null,
   "metadata": {},
   "outputs": [],
   "source": []
  }
 ],
 "metadata": {
  "kernelspec": {
   "display_name": "Python 3",
   "language": "python",
   "name": "python3"
  },
  "language_info": {
   "codemirror_mode": {
    "name": "ipython",
    "version": 3
   },
   "file_extension": ".py",
   "mimetype": "text/x-python",
   "name": "python",
   "nbconvert_exporter": "python",
   "pygments_lexer": "ipython3",
   "version": "3.7.1"
  }
 },
 "nbformat": 4,
 "nbformat_minor": 2
}
